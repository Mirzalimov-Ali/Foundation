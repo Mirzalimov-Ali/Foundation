{
 "cells": [
  {
   "cell_type": "markdown",
   "id": "a1398ff6",
   "metadata": {},
   "source": [
    "# Vazifa"
   ]
  },
  {
   "cell_type": "code",
   "execution_count": 8,
   "id": "13fd060b",
   "metadata": {},
   "outputs": [
    {
     "name": "stdout",
     "output_type": "stream",
     "text": [
      "55\n"
     ]
    }
   ],
   "source": [
    "# 1. Berilgan listdagi sonlarni yigindisini toping\n",
    "\n",
    "list = [1, 2, 3, 4, 5, 6, 7, 8, 9, 10]\n",
    "\n",
    "sum = 0\n",
    "for i in list:\n",
    "    sum += i\n",
    "print(sum)"
   ]
  },
  {
   "cell_type": "code",
   "execution_count": 9,
   "id": "c9060f59",
   "metadata": {},
   "outputs": [
    {
     "name": "stdout",
     "output_type": "stream",
     "text": [
      "3628800\n"
     ]
    }
   ],
   "source": [
    "# 2. Berilgan listdagi sonlarni kopytamasini toping\n",
    "\n",
    "multi = 1\n",
    "for i in list:\n",
    "    multi *= i\n",
    "print(multi)"
   ]
  },
  {
   "cell_type": "code",
   "execution_count": 18,
   "id": "b3455995",
   "metadata": {},
   "outputs": [
    {
     "name": "stdout",
     "output_type": "stream",
     "text": [
      "toq sonlar: 100\n",
      "musbat sonlar: 110\n"
     ]
    }
   ],
   "source": [
    "# 3. Berilgan sonlarni ichidagi faqat toq va musbat sonlarni yigindisini toping\n",
    "\n",
    "nums = [0, 1, 2, 3, 4, 5, 6, 7, 8, 9, 10, 11, 12, 13, 14, 15, 16, 17, 18, 19, 20]\n",
    "\n",
    "toq_son = 0\n",
    "musbat_son = 0\n",
    "\n",
    "for i in nums:\n",
    "    if i % 2 != 0:\n",
    "        toq_son += i\n",
    "    elif i > 0:\n",
    "        musbat_son += i\n",
    "    \n",
    "print(f\"toq sonlar: {toq_son}\")\n",
    "print(f\"musbat sonlar: {musbat_son}\")"
   ]
  },
  {
   "cell_type": "code",
   "execution_count": null,
   "id": "160a88b5",
   "metadata": {},
   "outputs": [
    {
     "name": "stdout",
     "output_type": "stream",
     "text": [
      "50\n"
     ]
    }
   ],
   "source": [
    "# 4. Berilgan sonlar ichida faqat 5 ga bolinadigan sonlarni yigindisini toping\n",
    "\n",
    "sum = 0\n",
    "\n",
    "for i in nums:\n",
    "    if i % 5 == 0:\n",
    "        sum += i\n",
    "print(sum)"
   ]
  }
 ],
 "metadata": {
  "kernelspec": {
   "display_name": ".venv",
   "language": "python",
   "name": "python3"
  },
  "language_info": {
   "codemirror_mode": {
    "name": "ipython",
    "version": 3
   },
   "file_extension": ".py",
   "mimetype": "text/x-python",
   "name": "python",
   "nbconvert_exporter": "python",
   "pygments_lexer": "ipython3",
   "version": "3.11.9"
  }
 },
 "nbformat": 4,
 "nbformat_minor": 5
}
