{
 "cells": [
  {
   "cell_type": "markdown",
   "id": "da25b140",
   "metadata": {},
   "source": [
    "# Vazifa"
   ]
  },
  {
   "cell_type": "code",
   "execution_count": 4,
   "id": "c1250d49",
   "metadata": {},
   "outputs": [
    {
     "name": "stdout",
     "output_type": "stream",
     "text": [
      "3, 7, 5 ning yigindisi:  15\n"
     ]
    }
   ],
   "source": [
    "# 1. Istalgan 3 ta sonni yigindisini toping\n",
    "\n",
    "son1 = 3\n",
    "son2 = 7\n",
    "son3 = 5\n",
    "\n",
    "print(f\"{son1}, {son2}, {son3} ning yigindisi: \", son1 + son2 + son3)"
   ]
  },
  {
   "cell_type": "code",
   "execution_count": 7,
   "id": "6382381c",
   "metadata": {},
   "outputs": [
    {
     "data": {
      "text/plain": [
       "'pyth'"
      ]
     },
     "execution_count": 7,
     "metadata": {},
     "output_type": "execute_result"
    }
   ],
   "source": [
    "# 2. Berilgan so'zni dastlabki 4 ta xarfini ekranga chiqaring\n",
    "\n",
    "word1 = \"python\"\n",
    "\n",
    "word1[:4]"
   ]
  },
  {
   "cell_type": "code",
   "execution_count": 13,
   "id": "59c26820",
   "metadata": {},
   "outputs": [
    {
     "data": {
      "text/plain": [
       "'ld!'"
      ]
     },
     "execution_count": 13,
     "metadata": {},
     "output_type": "execute_result"
    }
   ],
   "source": [
    "# 3. Berilgan so'zni oxirgi 3 ta xarfini ekranga chiqaring\n",
    "\n",
    "word = \"Hello, World!\"\n",
    "\n",
    "word[-3:]"
   ]
  },
  {
   "cell_type": "code",
   "execution_count": 14,
   "id": "bebed8f1",
   "metadata": {},
   "outputs": [
    {
     "data": {
      "text/plain": [
       "'lo, W'"
      ]
     },
     "execution_count": 14,
     "metadata": {},
     "output_type": "execute_result"
    }
   ],
   "source": [
    "# 4. Berilgan sozni 3 va 9 xarflari orasidagi xarflarini toping\n",
    "\n",
    "word[3:8]"
   ]
  },
  {
   "cell_type": "code",
   "execution_count": 19,
   "id": "bd14bb04",
   "metadata": {},
   "outputs": [
    {
     "name": "stdout",
     "output_type": "stream",
     "text": [
      "81\n"
     ]
    }
   ],
   "source": [
    "# 5. Istalgan sonni istalgan darajasini toping\n",
    "\n",
    "a = 3\n",
    "b = 4\n",
    "\n",
    "print(pow(a, b))"
   ]
  }
 ],
 "metadata": {
  "kernelspec": {
   "display_name": ".venv",
   "language": "python",
   "name": "python3"
  },
  "language_info": {
   "codemirror_mode": {
    "name": "ipython",
    "version": 3
   },
   "file_extension": ".py",
   "mimetype": "text/x-python",
   "name": "python",
   "nbconvert_exporter": "python",
   "pygments_lexer": "ipython3",
   "version": "3.11.9"
  }
 },
 "nbformat": 4,
 "nbformat_minor": 5
}
