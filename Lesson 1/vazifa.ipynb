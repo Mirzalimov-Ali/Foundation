{
 "cells": [
  {
   "cell_type": "markdown",
   "id": "df52ecf4",
   "metadata": {},
   "source": [
    "# Vazifa"
   ]
  },
  {
   "cell_type": "code",
   "execution_count": 2,
   "id": "069f9918",
   "metadata": {},
   "outputs": [
    {
     "data": {
      "text/plain": [
       "True"
      ]
     },
     "execution_count": 2,
     "metadata": {},
     "output_type": "execute_result"
    }
   ],
   "source": [
    "# 9 ni toq va musbat ekanligini isbotlang\n",
    "\n",
    "a = 9\n",
    "\n",
    "a % 2 != 0 and a > 0"
   ]
  },
  {
   "cell_type": "code",
   "execution_count": 3,
   "id": "bc4561b2",
   "metadata": {},
   "outputs": [
    {
     "data": {
      "text/plain": [
       "True"
      ]
     },
     "execution_count": 3,
     "metadata": {},
     "output_type": "execute_result"
    }
   ],
   "source": [
    "# 15 ni musbat va 5 ga bolinishini isbotlang\n",
    "\n",
    "a = 15\n",
    "\n",
    "a > 0 and a % 5 == 0"
   ]
  },
  {
   "cell_type": "code",
   "execution_count": 7,
   "id": "ab26cc03",
   "metadata": {},
   "outputs": [
    {
     "data": {
      "text/plain": [
       "'Learning'"
      ]
     },
     "execution_count": 7,
     "metadata": {},
     "output_type": "execute_result"
    }
   ],
   "source": [
    "# 'Machine Learning' so'zini Learning qismini ajratib yozing\n",
    "\n",
    "txt = 'Machine Learning'\n",
    "\n",
    "txt[8:]"
   ]
  },
  {
   "cell_type": "code",
   "execution_count": 10,
   "id": "48b97618",
   "metadata": {},
   "outputs": [
    {
     "data": {
      "text/plain": [
       "'ine'"
      ]
     },
     "execution_count": 10,
     "metadata": {},
     "output_type": "execute_result"
    }
   ],
   "source": [
    "# 'Machine' so'zini oxirgi/ dastlabki 3 ta xarfini ajratib yozing\n",
    "\n",
    "txt = 'Machine'\n",
    "\n",
    "txt[-3:]"
   ]
  }
 ],
 "metadata": {
  "kernelspec": {
   "display_name": ".venv",
   "language": "python",
   "name": "python3"
  },
  "language_info": {
   "codemirror_mode": {
    "name": "ipython",
    "version": 3
   },
   "file_extension": ".py",
   "mimetype": "text/x-python",
   "name": "python",
   "nbconvert_exporter": "python",
   "pygments_lexer": "ipython3",
   "version": "3.11.9"
  }
 },
 "nbformat": 4,
 "nbformat_minor": 5
}
